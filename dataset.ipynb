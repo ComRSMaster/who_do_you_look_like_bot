{
 "cells": [
  {
   "cell_type": "code",
   "execution_count": 40,
   "metadata": {},
   "outputs": [],
   "source": [
    "import requests\n",
    "from pprint import pprint\n",
    "import csv"
   ]
  },
  {
   "cell_type": "code",
   "execution_count": 45,
   "metadata": {},
   "outputs": [
    {
     "name": "stdout",
     "output_type": "stream",
     "text": [
      "14753641\n",
      "NO IMAGE nm0000812 Roger Avary\n"
     ]
    }
   ],
   "source": [
    "count = 5\n",
    "\n",
    "with open(\"drive/MyDrive/imdb.csv\", \"w\", newline=\"\", encoding=\"utf-8\") as csvfile:\n",
    "    after = b'{\"esToken\":[\"150\",\"150\",\"nm0652089\"],\"filter\":\"{\\\\\"constraints\\\\\":{\\\\\"explicitContentConstraint\\\\\":{\\\\\"explicitContentFilter\\\\\":\\\\\"INCLUDE_ADULT\\\\\"}},\\\\\"sort\\\\\":{\\\\\"sortBy\\\\\":\\\\\"POPULARITY\\\\\",\\\\\"sortOrder\\\\\":\\\\\"ASC\\\\\"},\\\\\"resultIndex\\\\\":149}\"}'\n",
    "\n",
    "    req = requests.get(\n",
    "        'https://caching.graphql.imdb.com/?operationName=AdvancedNameSearch&variables={\"explicitContentConstraint\":{\"explicitContentFilter\":\"INCLUDE_ADULT\"},\"first\":' + str(count) + ',\"locale\":\"ru-RU\",\"originalTitleText\":false,\"refTagQueryParam\":\"ref_=sr\",\"sortBy\":\"POPULARITY\",\"sortOrder\":\"ASC\"}&extensions={\"persistedQuery\":{\"sha256Hash\":\"b46810bb3933e95319542972b1c045b62acc159a31b27753f5169be385df5a03\",\"version\":1}}',\n",
    "        headers={\"content-type\": \"application/json\"},\n",
    "    )\n",
    "    data = req.json()['data']['advancedNameSearch']\n",
    "    print(data['total'])\n",
    "\n",
    "    writer = csv.writer(csvfile, delimiter=\";\")\n",
    "    for node in data['edges']:\n",
    "        name = node['node']['name']\n",
    "        image = name['primaryImage']\n",
    "        print('id:', name['id'])\n",
    "        print('name:', name['nameText']['text'])\n",
    "        if image is None:\n",
    "            print('NO IMAGE', name['id'], name['nameText']['text'])\n",
    "        else:\n",
    "            print('image:', image['url'])\n",
    "            print('w:', image['width'], 'h:', image['height'])\n",
    "            writer.writerow([name['id'], name['nameText']['text'], image['url'], image['width'], image['height']])\n",
    "        print()\n"
   ]
  }
 ],
 "metadata": {
  "kernelspec": {
   "display_name": ".venv",
   "language": "python",
   "name": "python3"
  },
  "language_info": {
   "codemirror_mode": {
    "name": "ipython",
    "version": 3
   },
   "file_extension": ".py",
   "mimetype": "text/x-python",
   "name": "python",
   "nbconvert_exporter": "python",
   "pygments_lexer": "ipython3",
   "version": "3.12.7"
  }
 },
 "nbformat": 4,
 "nbformat_minor": 2
}
